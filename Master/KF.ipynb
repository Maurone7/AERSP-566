{
 "cells": [
  {
   "cell_type": "code",
   "execution_count": 4,
   "metadata": {},
   "outputs": [
    {
     "ename": "NameError",
     "evalue": "name 'np' is not defined",
     "output_type": "error",
     "traceback": [
      "\u001b[0;31m---------------------------------------------------------------------------\u001b[0m",
      "\u001b[0;31mNameError\u001b[0m                                 Traceback (most recent call last)",
      "Cell \u001b[0;32mIn[4], line 12\u001b[0m\n\u001b[1;32m      9\u001b[0m         x_minus[:, i] \u001b[38;5;241m=\u001b[39m F \u001b[38;5;241m@\u001b[39m x_minus[:, i\u001b[38;5;241m-\u001b[39m\u001b[38;5;241m1\u001b[39m] \u001b[38;5;241m+\u001b[39m G \u001b[38;5;241m@\u001b[39m u \u001b[38;5;241m+\u001b[39m w\n\u001b[1;32m     10\u001b[0m         P_minus[:, :, i] \u001b[38;5;241m=\u001b[39m F \u001b[38;5;241m@\u001b[39m P_minus[:, :, i\u001b[38;5;241m-\u001b[39m\u001b[38;5;241m1\u001b[39m] \u001b[38;5;241m@\u001b[39m np\u001b[38;5;241m.\u001b[39mtranspose(F) \u001b[38;5;241m+\u001b[39m Q\n\u001b[0;32m---> 12\u001b[0m \u001b[43mx_and_P_minus\u001b[49m\u001b[43m(\u001b[49m\u001b[43m)\u001b[49m\n",
      "Cell \u001b[0;32mIn[4], line 3\u001b[0m, in \u001b[0;36mx_and_P_minus\u001b[0;34m()\u001b[0m\n\u001b[1;32m      1\u001b[0m \u001b[38;5;28;01mdef\u001b[39;00m \u001b[38;5;21mx_and_P_minus\u001b[39m():\n\u001b[1;32m      2\u001b[0m     \u001b[38;5;28;01mglobal\u001b[39;00m x_minus, P_minus\n\u001b[0;32m----> 3\u001b[0m     x_minus \u001b[38;5;241m=\u001b[39m \u001b[43mnp\u001b[49m\u001b[38;5;241m.\u001b[39mzeros((number_of_states, points))\n\u001b[1;32m      4\u001b[0m     P_minus \u001b[38;5;241m=\u001b[39m np\u001b[38;5;241m.\u001b[39mzeros((number_of_states, number_of_states, points))\n\u001b[1;32m      5\u001b[0m     x_minus[:, \u001b[38;5;241m0\u001b[39m] \u001b[38;5;241m=\u001b[39m x_0\n",
      "\u001b[0;31mNameError\u001b[0m: name 'np' is not defined"
     ]
    }
   ],
   "source": [
    "\n",
    "def x_and_P_minus():\n",
    "    \"\"\"\n",
    "    Calculate the predicted state vector and covariance matrix at each time step.\n",
    "\n",
    "    This function uses the Kalman filter equations to calculate the predicted state vector\n",
    "    and covariance matrix at each time step. It assumes that the variables `number_of_states`,\n",
    "    `points`, `x_0`, `P0`, `F`, `G`, `u`, and `Q` are defined in the global scope.\n",
    "\n",
    "    Returns:\n",
    "    - x_minus: numpy.ndarray, shape (number_of_states, points)\n",
    "        The predicted state vector at each time step.\n",
    "    - P_minus: numpy.ndarray, shape (number_of_states, number_of_states, points)\n",
    "        The predicted covariance matrix at each time step.\n",
    "    \"\"\"\n",
    "    global x_minus, P_minus\n",
    "    x_minus = np.zeros((number_of_states, points))\n",
    "    P_minus = np.zeros((number_of_states, number_of_states, points))\n",
    "    x_minus[:, 0] = x_0\n",
    "    P_minus[:, :, 0] = P0\n",
    "    for i in range(1, points):\n",
    "        w = np.reshape(np.random.multivariate_normal([0 for i in range(number_of_states)], Q), x_minus[:, 0].shape)\n",
    "        x_minus[:, i] = F @ x_minus[:, i-1] + G @ u + w\n",
    "        P_minus[:, :, i] = F @ P_minus[:, :, i-1] @ np.transpose(F) + Q\n",
    "\n",
    "x_and_P_minus()"
   ]
  },
  {
   "cell_type": "code",
   "execution_count": 5,
   "metadata": {},
   "outputs": [
    {
     "ename": "NameError",
     "evalue": "name 'np' is not defined",
     "output_type": "error",
     "traceback": [
      "\u001b[0;31m---------------------------------------------------------------------------\u001b[0m",
      "\u001b[0;31mNameError\u001b[0m                                 Traceback (most recent call last)",
      "Cell \u001b[0;32mIn[5], line 12\u001b[0m\n\u001b[1;32m      9\u001b[0m     \u001b[38;5;28;01melse\u001b[39;00m:\n\u001b[1;32m     10\u001b[0m         \u001b[38;5;28;01mraise\u001b[39;00m \u001b[38;5;167;01mValueError\u001b[39;00m(\u001b[38;5;124m\"\u001b[39m\u001b[38;5;124mThe system is not stable\u001b[39m\u001b[38;5;124m\"\u001b[39m)\n\u001b[0;32m---> 12\u001b[0m \u001b[43mF_stable\u001b[49m\u001b[43m(\u001b[49m\u001b[43m)\u001b[49m\n",
      "Cell \u001b[0;32mIn[5], line 3\u001b[0m, in \u001b[0;36mF_stable\u001b[0;34m()\u001b[0m\n\u001b[1;32m      1\u001b[0m \u001b[38;5;28;01mdef\u001b[39;00m \u001b[38;5;21mF_stable\u001b[39m():\n\u001b[1;32m      2\u001b[0m     \u001b[38;5;28;01mglobal\u001b[39;00m x_bar\n\u001b[0;32m----> 3\u001b[0m     eigvals, _ \u001b[38;5;241m=\u001b[39m \u001b[43mnp\u001b[49m\u001b[38;5;241m.\u001b[39mlinalg\u001b[38;5;241m.\u001b[39meig(F)\n\u001b[1;32m      4\u001b[0m     \u001b[38;5;28;01mif\u001b[39;00m np\u001b[38;5;241m.\u001b[39mall(np\u001b[38;5;241m.\u001b[39mabs(eigvals) \u001b[38;5;241m<\u001b[39m \u001b[38;5;241m1\u001b[39m):\n\u001b[1;32m      5\u001b[0m         \u001b[38;5;66;03m# Calculate the mean (or final values if the system is stable)\u001b[39;00m\n\u001b[1;32m      6\u001b[0m         x_bar \u001b[38;5;241m=\u001b[39m np\u001b[38;5;241m.\u001b[39mlinalg\u001b[38;5;241m.\u001b[39minv(np\u001b[38;5;241m.\u001b[39meye(\u001b[38;5;241m2\u001b[39m)\u001b[38;5;241m-\u001b[39mF) \u001b[38;5;241m@\u001b[39m G \u001b[38;5;241m@\u001b[39m u\n",
      "\u001b[0;31mNameError\u001b[0m: name 'np' is not defined"
     ]
    }
   ],
   "source": [
    "\n",
    "def F_stable():\n",
    "    \"\"\"\n",
    "    Check if the system defined by matrix F is stable and calculate the mean (or final values) if it is.\n",
    "\n",
    "    Returns:\n",
    "        None\n",
    "\n",
    "    Raises:\n",
    "        ValueError: If the system is not stable.\n",
    "    \"\"\"\n",
    "    global x_bar\n",
    "    eigvals, _ = np.linalg.eig(F)\n",
    "    if np.all(np.abs(eigvals) < 1):\n",
    "        # Calculate the mean (or final values if the system is stable)\n",
    "        x_bar = np.linalg.inv(np.eye(2)-F) @ G @ u\n",
    "        print(\"The system is stable\")\n",
    "        print('x_bar = ', x_bar)\n",
    "    else:\n",
    "        raise ValueError(\"The system is not stable\")\n",
    "    \n",
    "F_stable()"
   ]
  }
 ],
 "metadata": {
  "kernelspec": {
   "display_name": "Python 3",
   "language": "python",
   "name": "python3"
  },
  "language_info": {
   "codemirror_mode": {
    "name": "ipython",
    "version": 3
   },
   "file_extension": ".py",
   "mimetype": "text/x-python",
   "name": "python",
   "nbconvert_exporter": "python",
   "pygments_lexer": "ipython3",
   "version": "3.12.2"
  }
 },
 "nbformat": 4,
 "nbformat_minor": 2
}
