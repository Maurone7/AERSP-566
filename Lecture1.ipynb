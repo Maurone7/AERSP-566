{
 "cells": [
  {
   "cell_type": "markdown",
   "metadata": {},
   "source": [
    "# <center> Relative frequency <center>\n",
    "$P(A)=\\frac{\\text{\\# of times A occurs}}{\\text{total trials}}$\n",
    "\n",
    "The usual percentage value is just the relative frequency multiplied by 100"
   ]
  },
  {
   "cell_type": "markdown",
   "metadata": {},
   "source": [
    "# <center> Conditional probability <center>\n",
    "P(A) given that B has occurred (probability of event A occurring given that event B has occurred)\n",
    "\n",
    "$P(A|B)=\\frac{P(A,B)}{P(B)}$\n",
    "\n",
    "The \"|\" symbol stands for \"given that\"\n",
    "\n",
    "The \",\" symbol stands for \"and\""
   ]
  },
  {
   "cell_type": "markdown",
   "metadata": {},
   "source": [
    "If A and B are independent $P(A, B)=P(A)P(B)$\n",
    "\n",
    "$\\rightarrow P(A|B)=\\frac{P(A)P(B)}{P(B)}=P(A) \\quad \\text{and} \\quad P(B|A)=\\frac{P(B)P(A)}{P(A)}=P(B)$"
   ]
  },
  {
   "cell_type": "markdown",
   "metadata": {},
   "source": [
    "# <center> Baye's Rule <center>\n",
    "$P(A|B)=\\frac{P(A,B)}{P(B)}, \\quad P(B|A)=\\frac{P(B, A)}{P(A)}$\n",
    "\n",
    "$P(A|B)=\\frac{P(B|A)P(A)}{P(B)}$\n",
    "\n",
    "Example: Let's roll a dice. Event A is the event in which we obtain a 4. Event B is the event in which we obtain an even number."
   ]
  },
  {
   "cell_type": "markdown",
   "metadata": {},
   "source": [
    "$P(A)=\\frac{1}{6}$ Because there's 1 out of 6 chances that we get a 4\n",
    "\n",
    "$P(B)=\\frac{1}{2}$ Because 3 out of the 6 numbers are even\n",
    "\n",
    "$P(A, B)=P(B, A)=\\frac{1}{6}$ This is the chances of getting a 4 and an even number\n",
    "\n",
    "$P(A|B)=\\frac{1}{3}$ Because there are 3 even numbers, and only one of them is a 4\n",
    "\n",
    "$P(B|A)=1$ Because if we get 4, we get an even number"
   ]
  },
  {
   "cell_type": "markdown",
   "metadata": {},
   "source": [
    "# <center> Random variables <center>\n",
    "\n",
    "X has a probability distribution function (PDF) $F_X(x)=P(X \\le x)$ (it can also be called cumulative distribution function \"CDF\")\n",
    "\n",
    "Some properties about the PDF:\n",
    "\n",
    "<ol>\n",
    "\n",
    "$F_X \\epsilon [0, 1]$\n",
    "\n",
    "$\\lim_{x \\to -\\infty}F_X(x)=0 \\quad \\lim_{x \\to \\infty}F_X(x)=1$\n",
    "\n",
    "$F_X(a) \\le F_X(b) \\quad if \\quad a \\le b$\n",
    "\n",
    "$P(a \\le X \\le b)=F_X(b)-F_x(a)$"
   ]
  },
  {
   "cell_type": "markdown",
   "metadata": {},
   "source": [
    "# <center> Probability density function (pdf)<center>\n",
    "\n",
    "$f_X(x)=\\frac{dF_X(x)}{dx}$\n",
    "\n",
    "Some properties about the pdf:\n",
    "\n",
    "<ol>\n",
    "\n",
    "$F_X(x)=\\int_{-\\infty}^{x}f_X(z)dz$\n",
    "\n",
    "$f_X(x)\\ge 0$\n",
    "\n",
    "$\\int_{-\\infty}^{\\infty}f_X(x)dx=1$\n",
    "\n",
    "$P(a \\le X \\le b)=\\int_a^bf_X(x)dx$"
   ]
  }
 ],
 "metadata": {
  "language_info": {
   "name": "python"
  }
 },
 "nbformat": 4,
 "nbformat_minor": 2
}
