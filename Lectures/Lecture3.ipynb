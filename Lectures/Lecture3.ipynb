{
 "cells": [
  {
   "cell_type": "markdown",
   "metadata": {},
   "source": [
    "# <center> Covariance <center>"
   ]
  },
  {
   "cell_type": "markdown",
   "metadata": {},
   "source": [
    "$$C_{XY}=E[(X-\\bar{x})(Y-\\bar{y})]=E(XY)-\\bar{x}\\bar{y}$$"
   ]
  },
  {
   "cell_type": "markdown",
   "metadata": {},
   "source": [
    "# <center> Correlation <center>"
   ]
  },
  {
   "cell_type": "markdown",
   "metadata": {},
   "source": [
    "$$R_{XY}=E(XY)$$"
   ]
  },
  {
   "cell_type": "markdown",
   "metadata": {},
   "source": [
    "# <center> Correlation Coefficient <center>\n"
   ]
  },
  {
   "cell_type": "markdown",
   "metadata": {},
   "source": [
    "$$\\rho_{xy}=\\frac{C_{XY}}{\\sigma_x\\sigma_y}$$\n",
    "$\\rho_{xy}=0$ if $x$ and $y$ are uncorrelated (or statistically independent) $\\rightarrow R_{xy}=E(X)E(Y)$ \n",
    "\n",
    "$\\rho_{xy}=\\pm 1$ if $x$ and $y$ are linearly related"
   ]
  },
  {
   "cell_type": "markdown",
   "metadata": {},
   "source": [
    "# <center> Random arrays <center>"
   ]
  },
  {
   "cell_type": "markdown",
   "metadata": {},
   "source": [
    "Auto correlation (which is the correlation with itself)\n",
    "\n",
    "$$R_{X}=E(XX^T)=\\begin{bmatrix}\n",
    "E(X_1^2) & E(X_1X_2) & ...\\\\\n",
    "E(X_1X_2) & E(X_2^2) & ...\\\\\n",
    "... & ... & ...\n",
    "\\end{bmatrix}\\ge 0$$\n",
    "\n",
    "This matrix will be positive and semi-definite"
   ]
  },
  {
   "cell_type": "markdown",
   "metadata": {},
   "source": [
    "##### <center> Correlation <center>\n",
    "\n",
    "$$C(XY^T)=\\begin{bmatrix}\n",
    "E(X_1Y_1) & E(X_1Y_2) & ...\\\\\n",
    "E(X_2Y_2) & E(X_2Y_2) & ...\\\\\n",
    "... & ... & ...\n",
    "\\end{bmatrix}$$"
   ]
  },
  {
   "cell_type": "markdown",
   "metadata": {},
   "source": [
    "##### <center> Covariance <center>\n",
    "\n",
    "$$C_{XY}=E[(X-\\bar{x})(Y-\\bar{y})^T]=E(XY^T)-\\bar{x}\\bar{y}^T=R_{XY}-\\bar{x}\\bar{y}^T$$"
   ]
  },
  {
   "cell_type": "markdown",
   "metadata": {},
   "source": [
    "##### <center> Autocovariance <center>\n",
    "\n",
    "$$C_{XY}=E[(X-\\bar{x})(X-\\bar{x})^T]$$\n",
    "$$=\\begin{bmatrix}\n",
    "\\sigma_1^2 & \\rho_{12}\\sigma_1\\sigma_2 & ...\\\\\n",
    "\\rho_{12}\\sigma_1\\sigma_2 & \\sigma_2^2 & ...\\\\\n",
    "... & ... & ...\n",
    "\\end{bmatrix}\\ge 0$$\n",
    "\n",
    "Note: $\\rho_{12}=\\rho_{21}$\n",
    "\n",
    "This matrix is positive semi-definite"
   ]
  },
  {
   "cell_type": "markdown",
   "metadata": {},
   "source": [
    "n-element R.V. x is a Gaussian/Normal if\n",
    "$$f_x=\\frac{1}{(2\\pi)^\\frac{n}{2}|C_x|^\\frac{1}{2}}e^{-\\frac{1}{2}(x-\\bar{x})^TC_x^{-1}(x-\\bar{x})}$$"
   ]
  },
  {
   "cell_type": "markdown",
   "metadata": {},
   "source": [
    "We would say $X \\sim (\\bar{x}, C_x)$\n",
    "\n",
    "A linear transformation of a gaussian R.V. \n",
    "\n",
    "$$Y=AX+b \\quad A\\epsilon \\mathbb{R}, invertible$$\n",
    "\n",
    "if $X\\sim N(\\bar{x}, C_x)$\n",
    "\n",
    "$\\rightarrow Y\\sim N(A\\bar{x}+b, AC_xA^T)=N(\\bar{y}, C_y)$"
   ]
  },
  {
   "cell_type": "markdown",
   "metadata": {},
   "source": [
    "# <center> Stochastic Process <center>\n",
    "R.V. changing with time\n",
    "\n",
    "$$F_x(x, t)=P(X(t)\\le x) \\text{ or } P(X_1(t)<x_1 \\text{ and } X_2(t)<x_2 \\text{ and ...})$$"
   ]
  },
  {
   "cell_type": "markdown",
   "metadata": {},
   "source": [
    "$$f_x(x, t)=\\frac{dF_x(x,t)}{dx} \\text{ or } \\frac{d^nF_x(x,t)}{dx_1dx_2...dx_n} $$"
   ]
  },
  {
   "cell_type": "markdown",
   "metadata": {},
   "source": [
    "$$\\bar{x}=E[X(t)]=\\int_{-\\infty}^{\\infty}xf_x(x,t)dx=E(x(t))$$"
   ]
  },
  {
   "cell_type": "markdown",
   "metadata": {},
   "source": [
    "Autocovariance at t:\n",
    "$$C_x(t)=E([X(t)-\\bar{x}(t)][X(t)-\\bar{x}(t)]^T)"
   ]
  },
  {
   "cell_type": "markdown",
   "metadata": {},
   "source": [
    "Consider x at $t_1$ and $t_2$ \\\n",
    "Autocorrelation:\n",
    "\n",
    "$$R_x(t_1, t_2)=E[X(t_1)X(t_2)^T]$$"
   ]
  },
  {
   "cell_type": "markdown",
   "metadata": {},
   "source": [
    "Autocovariance:\n",
    "$$C_X(t_1,t_2)=E[(X(t_1)-\\bar{x}(t_1))(X(t_2)-\\bar{x}(t_2))^T]$$"
   ]
  },
  {
   "cell_type": "markdown",
   "metadata": {},
   "source": [
    "If pdf is constant (not a function of t), the process is called <u>stationary</u>\n",
    "\n",
    "\n",
    "$\\rightarrow$ mean is constant, and autocorrealtion isa function of $t_2-t_1$"
   ]
  },
  {
   "cell_type": "markdown",
   "metadata": {},
   "source": [
    "$$E(X(t))=\\bar{x}$$\n",
    "$$E[X(t_1)X(t_2)^T]=R_x(t_2-t_1)$$"
   ]
  }
 ],
 "metadata": {
  "language_info": {
   "name": "python"
  }
 },
 "nbformat": 4,
 "nbformat_minor": 2
}
