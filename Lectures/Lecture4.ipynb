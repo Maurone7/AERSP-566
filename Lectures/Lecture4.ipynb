{
 "cells": [
  {
   "cell_type": "markdown",
   "metadata": {},
   "source": [
    "# <center> Ergodic <center>\n",
    "Consider an average across time (rather than across a trial)\n",
    "\n",
    "*\"Time average\"* $$A[x(t)]=lim_{T \\to \\infty} \\frac{1}{2T}\\int_{-T}^Tx(t)dt$$\n",
    "\n",
    "*\"Time autocorrelation\"* $$R[x(t), \\tau] = A[X(t)x^T(t-\\tau)]$$\n",
    "\n",
    "An *ergodic* process is a stationary process, for which $$A[X(t)]=E(x) and R[x(t), \\tau]=R_x{\\tau}=E[x(t)x^T(t+\\tau)]$$\n",
    "\n",
    "A process where time averages can be used to estimate across trials"
   ]
  },
  {
   "cell_type": "markdown",
   "metadata": {},
   "source": [
    "##### <center> Cross-correlation <center>\n",
    "$$R_{XY}(t_1,t_2)=E[x(t_1)T(t_2)^T]$$"
   ]
  },
  {
   "cell_type": "markdown",
   "metadata": {},
   "source": [
    "##### <center> Cross-covariance <center>\n",
    "$$C_{XY}(t_1,t_2)=E([x(t_1)-\\bar{x}(t_2)][Y(t_1)-\\bar{y}(t_1)]^T)"
   ]
  },
  {
   "cell_type": "markdown",
   "metadata": {},
   "source": [
    "##### <center> White vs colored noise <center>\n",
    "If x(t) s statistically independant of $x_1(t_2)$ where $(t\\ne t_2)$, then X is white noise, otherwise X is colored"
   ]
  },
  {
   "cell_type": "markdown",
   "metadata": {},
   "source": [
    "##### Power Sprectrum\n",
    "It is the fourier transofrm of the auto-correlation\n",
    "\n",
    "$$\\int_x \\omega=\\int_{-\\infty}^{\\infty}R_x(\\tau)e^{-j\\omega\\tau}$$\n",
    "\n",
    "and vice-versa\n",
    "\n",
    "$$R_x(\\tau)=\\frac{1}{2\\pi}\\int_{-\\infty}^{\\infty}S_x(\\tau)e^{j\\omega\\tau}d\\omega$$\n",
    "\n",
    "$$\\text{For white noise} \\begin{cases}\n",
    "R_x \\text{ is non-zero only at } \\tau=0 \\\\\n",
    "S_x \\text{is a constant}\n",
    "\\end{cases}"
   ]
  }
 ],
 "metadata": {
  "language_info": {
   "name": "python"
  }
 },
 "nbformat": 4,
 "nbformat_minor": 2
}
