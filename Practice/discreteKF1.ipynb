{
 "cells": [
  {
   "cell_type": "code",
   "execution_count": 2,
   "metadata": {},
   "outputs": [],
   "source": [
    "import numpy as np\n",
    "import random\n",
    "\n",
    "# Initialize all the variables\n",
    "number_of_inputs = 1\n",
    "number_of_states = 1\n",
    "number_of_outputs = 1\n",
    "F = np.eye(number_of_inputs)\n",
    "HG = np.eye(number_of_inputs)\n",
    "G = HG[0]\n",
    "H = [HG[1] if number_of_inputs > 1 else [0]]\n",
    "\n",
    "points = 10\n",
    "Q = 1\n",
    "R = 1\n",
    "eye = np.eye(points)\n",
    "sigma_x = [[1] for i in range(number_of_states)]\n",
    "w = [np.random.normal(0, R) for i in range(points)]\n",
    "w = eye @ w\n",
    "v = [np.random.normal(0, R) for i in range(points)]\n",
    "v = eye @ v"
   ]
  },
  {
   "cell_type": "code",
   "execution_count": 5,
   "metadata": {},
   "outputs": [],
   "source": [
    "x_hat = np.zeros((number_of_states, points))\n",
    "x = np.zeros((number_of_states, points))\n",
    "P = np.zeros((number_of_states, number_of_states,  points))\n",
    "K = np.zeros((number_of_states, number_of_outputs, points))\n",
    "Q = w @ w\n",
    "# Kalman filter\n",
    "def kalman_filter(A, B, C, u, x, P, z):\n",
    "    x = np.dot(A, x) + np.dot(B, u)\n",
    "    P = np.dot(np.dot(A, P), A.T) + Q\n",
    "    K = np.dot(np.dot(P, C.T), np.linalg.inv(np.dot(np.dot(C, P), C.T) + R))\n",
    "    x = x + np.dot(K, z - np.dot(C, x))\n",
    "    P = P - np.dot(np.dot(K, C), P)\n",
    "    return x, P\n",
    "\n"
   ]
  },
  {
   "cell_type": "code",
   "execution_count": 7,
   "metadata": {},
   "outputs": [
    {
     "data": {
      "text/plain": [
       "EigResult(eigenvalues=array([0.6+6.32069158e-09j, 0.6-6.32069158e-09j]), eigenvectors=array([[0.70710678+0.00000000e+00j, 0.70710678-0.00000000e+00j],\n",
       "       [0.70710678+1.11735097e-08j, 0.70710678-1.11735097e-08j]]))"
      ]
     },
     "metadata": {},
     "output_type": "display_data"
    },
    {
     "data": {
      "text/plain": [
       "(0.36000000000000004+0j)"
      ]
     },
     "metadata": {},
     "output_type": "display_data"
    },
    {
     "data": {
      "text/plain": [
       "(0.35999999999999993+7.58482990058446e-09j)"
      ]
     },
     "metadata": {},
     "output_type": "display_data"
    },
    {
     "data": {
      "text/plain": [
       "(0.35999999999999993-7.58482990058446e-09j)"
      ]
     },
     "metadata": {},
     "output_type": "display_data"
    }
   ],
   "source": [
    "F = [[0.2, 0.4], [-0.4, 1]]\n",
    "display(np.linalg.eig(F))\n",
    "display(np.linalg.eig(F)[0][0]*np.linalg.eig(F)[0][1])\n",
    "display(np.linalg.eig(F)[0][0]*np.linalg.eig(F)[0][0])\n",
    "display(np.linalg.eig(F)[0][1]*np.linalg.eig(F)[0][1])"
   ]
  }
 ],
 "metadata": {
  "kernelspec": {
   "display_name": "Python 3",
   "language": "python",
   "name": "python3"
  },
  "language_info": {
   "codemirror_mode": {
    "name": "ipython",
    "version": 3
   },
   "file_extension": ".py",
   "mimetype": "text/x-python",
   "name": "python",
   "nbconvert_exporter": "python",
   "pygments_lexer": "ipython3",
   "version": "3.12.2"
  }
 },
 "nbformat": 4,
 "nbformat_minor": 2
}
